{
 "cells": [
  {
   "cell_type": "markdown",
   "metadata": {},
   "source": [
    "# Data Wrangling + EDA"
   ]
  },
  {
   "cell_type": "markdown",
   "metadata": {},
   "source": [
    "## Introduction"
   ]
  },
  {
   "cell_type": "markdown",
   "metadata": {},
   "source": [
    "The goal of this notebook is to take the data on which Leandojo's ReProver was trained and to modify it so that we can train a model to output tactic suggestions using conjectures instead of just names of existing theorems. To do so, we go through each tactic in the data set and create a new entry where the named theorems are replaced by their content. For example, the tactic\n",
    "\n",
    "    rw [Acc.ndrec, rec_eq_recC, Acc.ndrecC]\n",
    "\n",
    "is expanded to\n",
    "\n",
    "    rw [\n",
    "    \n",
    "    < c>.{u1, u2} {α : Sort u2} {r : α → α → Prop} {C : α → Sort u1}\\n    (m : (x : α) → ((y : α) → r y x → Acc r y) → ((y : α) → (a : r y x) → C y) → C x)\\n    {a : α} (n : Acc r a) : C a< /c>,\n",
    "\n",
    "    < c> : @Acc.rec = @Acc.recC< /c>,\n",
    "\n",
    "    < c> {C : α → Sort v}\\n    (m : (x : α) → ((y : α) → r y x → Acc r y) → ((y : α) → (a : r y x) → C y) → C x)\\n    {a : α} (n : Acc r a) : C a< /c>\n",
    "    \n",
    "    ]\n",
    "\n",
    "by using the content for each existing theorem stored in the corpus.\n",
    "\n",
    "The notebook is to be run inside of the Leandojo benchmark folders (available at https://zenodo.org/records/10929138 ), either novel_premises or random.\n",
    "\n",
    "Of the tens of thousands of theorems used in proofs, a few thousand raise errors when retrieving their original content, so we run the notebook once to catch those theorem names as exceptions, saving it as a json. We restart the notebook, loading the exceptions json, leaving the names of exceptions but replacing with content for all other theorems."
   ]
  },
  {
   "cell_type": "markdown",
   "metadata": {},
   "source": [
    "## Import packages and load data"
   ]
  },
  {
   "cell_type": "code",
   "execution_count": 1,
   "metadata": {},
   "outputs": [],
   "source": [
    "import json\n",
    "import re"
   ]
  },
  {
   "cell_type": "code",
   "execution_count": 2,
   "metadata": {},
   "outputs": [],
   "source": [
    "with open(\"train.json\", \"r\") as read_file:\n",
    "    data = json.load(read_file)"
   ]
  },
  {
   "cell_type": "code",
   "execution_count": 3,
   "metadata": {},
   "outputs": [
    {
     "data": {
      "text/plain": [
       "{'url': 'https://github.com/leanprover-community/mathlib4',\n",
       " 'commit': 'fe4454af900584467d21f4fd4fe951d29d9332a7',\n",
       " 'file_path': '.lake/packages/std/Std/WF.lean',\n",
       " 'full_name': 'Acc.ndrec_eq_ndrecC',\n",
       " 'start': [76, 18],\n",
       " 'end': [78, 42],\n",
       " 'traced_tactics': [{'tactic': 'funext α r motive intro a t',\n",
       "   'annotated_tactic': ['funext α r motive intro a t', []],\n",
       "   'state_before': '⊢ @ndrec = @Acc.ndrecC',\n",
       "   'state_after': 'case h.h.h.h.h.h\\nα : Sort u_1\\nr : α → α → Prop\\nmotive : α → Sort u_2\\nintro : (x : α) → (∀ (y : α), r y x → Acc r y) → ((y : α) → r y x → motive y) → motive x\\na : α\\nt : Acc r a\\n⊢ ndrec intro t = Acc.ndrecC intro t'},\n",
       "  {'tactic': 'rw [Acc.ndrec, rec_eq_recC, Acc.ndrecC]',\n",
       "   'annotated_tactic': ['rw [<a>Acc.ndrec</a>, <a>rec_eq_recC</a>, <a>Acc.ndrecC</a>]',\n",
       "    [{'full_name': 'Acc.ndrec',\n",
       "      'def_path': '.lake/packages/lean4/src/lean/Init/WF.lean',\n",
       "      'def_pos': [15, 22],\n",
       "      'def_end_pos': [15, 31]},\n",
       "     {'full_name': '_private.«.lake».packages.std.Std.WF.0.Acc.rec_eq_recC',\n",
       "      'def_path': '.lake/packages/std/Std/WF.lean',\n",
       "      'def_pos': [63, 26],\n",
       "      'def_end_pos': [63, 37]},\n",
       "     {'full_name': '_private.«.lake».packages.std.Std.WF.0.Acc.ndrecC',\n",
       "      'def_path': '.lake/packages/std/Std/WF.lean',\n",
       "      'def_pos': [71, 26],\n",
       "      'def_end_pos': [71, 32]}]],\n",
       "   'state_before': 'case h.h.h.h.h.h\\nα : Sort u_1\\nr : α → α → Prop\\nmotive : α → Sort u_2\\nintro : (x : α) → (∀ (y : α), r y x → Acc r y) → ((y : α) → r y x → motive y) → motive x\\na : α\\nt : Acc r a\\n⊢ ndrec intro t = Acc.ndrecC intro t',\n",
       "   'state_after': 'no goals'}]}"
      ]
     },
     "execution_count": 3,
     "metadata": {},
     "output_type": "execute_result"
    }
   ],
   "source": [
    "data[1]"
   ]
  },
  {
   "cell_type": "markdown",
   "metadata": {},
   "source": [
    "Each element of the data list corresponds to a theorem and its proof, stored as a dictionary. The tactics (i.e., lines of the proof) and the information about each step of the proof are stored as a list under 'traced_tactics'. Our script will go through each 'annotated_tactic' and replace the names of the theorems (which show up between < a> and < \\a>) with the content of those theorems (unless the theorem name is among the exceptions), and store the resulting string under 'expanded_tactic'."
   ]
  },
  {
   "cell_type": "code",
   "execution_count": 4,
   "metadata": {},
   "outputs": [],
   "source": [
    "with open(\"..\\\\corpus.jsonl\", \"r\") as read_file:\n",
    "    corpus = [json.loads(line) for line in read_file]"
   ]
  },
  {
   "cell_type": "code",
   "execution_count": 5,
   "metadata": {},
   "outputs": [
    {
     "data": {
      "text/plain": [
       "{'path': '.lake/packages/lean4/src/lean/Init/Coe.lean',\n",
       " 'imports': ['.lake/packages/lean4/src/lean/Init/Prelude.lean'],\n",
       " 'premises': [{'full_name': 'Coe',\n",
       "   'code': 'class Coe (α : semiOutParam (Sort u)) (β : Sort v) where\\n  \\n  coe : α → β',\n",
       "   'start': [120, 1],\n",
       "   'end': [129, 14],\n",
       "   'kind': 'commanddeclaration'},\n",
       "  {'full_name': 'CoeTC',\n",
       "   'code': 'class CoeTC (α : Sort u) (β : Sort v) where\\n  \\n  coe : α → β',\n",
       "   'start': [132, 1],\n",
       "   'end': [139, 14],\n",
       "   'kind': 'commanddeclaration'},\n",
       "  {'full_name': 'CoeOut',\n",
       "   'code': 'class CoeOut (α : Sort u) (β : semiOutParam (Sort v)) where\\n  \\n  coe : α → β',\n",
       "   'start': [146, 1],\n",
       "   'end': [152, 14],\n",
       "   'kind': 'commanddeclaration'},\n",
       "  {'full_name': 'CoeOTC',\n",
       "   'code': 'class CoeOTC (α : Sort u) (β : Sort v) where\\n  \\n  coe : α → β',\n",
       "   'start': [155, 1],\n",
       "   'end': [162, 14],\n",
       "   'kind': 'commanddeclaration'},\n",
       "  {'full_name': 'CoeHead',\n",
       "   'code': 'class CoeHead (α : Sort u) (β : semiOutParam (Sort v)) where\\n  \\n  coe : α → β',\n",
       "   'start': [173, 1],\n",
       "   'end': [180, 14],\n",
       "   'kind': 'commanddeclaration'},\n",
       "  {'full_name': 'CoeHTC',\n",
       "   'code': 'class CoeHTC (α : Sort u) (β : Sort v) where\\n  \\n  coe : α → β',\n",
       "   'start': [183, 1],\n",
       "   'end': [190, 14],\n",
       "   'kind': 'commanddeclaration'},\n",
       "  {'full_name': 'CoeTail',\n",
       "   'code': 'class CoeTail (α : semiOutParam (Sort u)) (β : Sort v) where\\n  \\n  coe : α → β',\n",
       "   'start': [197, 1],\n",
       "   'end': [205, 14],\n",
       "   'kind': 'commanddeclaration'},\n",
       "  {'full_name': 'CoeHTCT',\n",
       "   'code': 'class CoeHTCT (α : Sort u) (β : Sort v) where\\n  \\n  coe : α → β',\n",
       "   'start': [208, 1],\n",
       "   'end': [215, 14],\n",
       "   'kind': 'commanddeclaration'},\n",
       "  {'full_name': 'CoeDep',\n",
       "   'code': 'class CoeDep (α : Sort u) (_ : α) (β : Sort v) where\\n  \\n  coe : β',\n",
       "   'start': [222, 1],\n",
       "   'end': [234, 10],\n",
       "   'kind': 'commanddeclaration'},\n",
       "  {'full_name': 'CoeT',\n",
       "   'code': 'class CoeT (α : Sort u) (_ : α) (β : Sort v) where\\n  \\n  coe : β',\n",
       "   'start': [237, 1],\n",
       "   'end': [248, 10],\n",
       "   'kind': 'commanddeclaration'},\n",
       "  {'full_name': 'CoeFun',\n",
       "   'code': 'class CoeFun (α : Sort u) (γ : outParam (α → Sort v)) where\\n  \\n  coe : (f : α) → γ f',\n",
       "   'start': [255, 1],\n",
       "   'end': [266, 22],\n",
       "   'kind': 'commanddeclaration'},\n",
       "  {'full_name': 'CoeSort',\n",
       "   'code': 'class CoeSort (α : Sort u) (β : outParam (Sort v)) where\\n  \\n  coe : α → β',\n",
       "   'start': [271, 1],\n",
       "   'end': [279, 14],\n",
       "   'kind': 'commanddeclaration'},\n",
       "  {'full_name': 'boolToProp',\n",
       "   'code': 'instance boolToProp : Coe Bool Prop where\\n  coe b := Eq b true',\n",
       "   'start': [301, 1],\n",
       "   'end': [302, 21],\n",
       "   'kind': 'commanddeclaration'},\n",
       "  {'full_name': 'boolToSort',\n",
       "   'code': 'instance boolToSort : CoeSort Bool Prop where\\n  coe b := b',\n",
       "   'start': [304, 1],\n",
       "   'end': [305, 13],\n",
       "   'kind': 'commanddeclaration'},\n",
       "  {'full_name': 'decPropToBool',\n",
       "   'code': 'instance decPropToBool (p : Prop) [Decidable p] : CoeDep Prop p Bool where\\n  coe := decide p',\n",
       "   'start': [307, 1],\n",
       "   'end': [308, 18],\n",
       "   'kind': 'commanddeclaration'},\n",
       "  {'full_name': 'optionCoe',\n",
       "   'code': 'instance optionCoe {α : Type u} : Coe α (Option α) where\\n  coe := some',\n",
       "   'start': [310, 1],\n",
       "   'end': [311, 14],\n",
       "   'kind': 'commanddeclaration'},\n",
       "  {'full_name': 'subtypeCoe',\n",
       "   'code': 'instance subtypeCoe {α : Sort u} {p : α → Prop} : CoeOut (Subtype p) α where\\n  coe v := v.val',\n",
       "   'start': [313, 1],\n",
       "   'end': [314, 17],\n",
       "   'kind': 'commanddeclaration'},\n",
       "  {'full_name': 'Lean.Internal.liftCoeM',\n",
       "   'code': '@[coe_decl] abbrev Lean.Internal.liftCoeM {m : Type u → Type v} {n : Type u → Type w} {α β : Type u}\\n    [MonadLiftT m n] [∀ a, CoeT α a β] [Monad n] (x : m α) : n β := do\\n  let a ← liftM x\\n  pure (CoeT.coe a)',\n",
       "   'start': [318, 1],\n",
       "   'end': [327, 20],\n",
       "   'kind': 'commanddeclaration'},\n",
       "  {'full_name': 'Lean.Internal.coeM',\n",
       "   'code': '@[coe_decl] abbrev Lean.Internal.coeM {m : Type u → Type v} {α β : Type u}\\n    [∀ a, CoeT α a β] [Monad m] (x : m α) : m β := do\\n  let a ← x\\n  pure (CoeT.coe a)',\n",
       "   'start': [329, 1],\n",
       "   'end': [337, 20],\n",
       "   'kind': 'commanddeclaration'}]}"
      ]
     },
     "execution_count": 5,
     "metadata": {},
     "output_type": "execute_result"
    }
   ],
   "source": [
    "corpus[1]"
   ]
  },
  {
   "cell_type": "markdown",
   "metadata": {},
   "source": [
    "Each entry in the corpus is the data of a particular Lean file, with a list of the data from theorems contained in it. To replace a theorem name with its content, we search the corpus by using the Lean file and theorem name, accessing the string stored as 'code' in the corresponding dictionary."
   ]
  },
  {
   "cell_type": "markdown",
   "metadata": {},
   "source": [
    "On first run-through, adjust the commenting in the following cell."
   ]
  },
  {
   "cell_type": "code",
   "execution_count": 6,
   "metadata": {},
   "outputs": [],
   "source": [
    "# COMMENT OUT ON FIRST RUN-THROUGH\n",
    "with open(\"exceptions.json\", \"r\") as read_file:\n",
    "    exceptions = json.load(read_file)\n",
    "\n",
    "# # UN-COMMENT ON FIRST RUN-THROUGH\n",
    "# exceptions = []"
   ]
  },
  {
   "cell_type": "code",
   "execution_count": 7,
   "metadata": {},
   "outputs": [
    {
     "data": {
      "text/plain": [
       "['eqToHom_trans',\n",
       " 'inv_eq_of_hom_inv_id',\n",
       " 'inv_eq_of_hom_inv_id',\n",
       " 'inv_eq_of_hom_inv_id',\n",
       " 'inv_eq_of_hom_inv_id',\n",
       " 'inv_eq_of_hom_inv_id',\n",
       " 'eq_inv_of_hom_inv_id',\n",
       " 'IsIso.eq_inv_of_hom_inv_id',\n",
       " 'pullbackSymmetry_hom_comp_fst',\n",
       " 'IsIso.eq_inv_of_hom_inv_id']"
      ]
     },
     "execution_count": 7,
     "metadata": {},
     "output_type": "execute_result"
    }
   ],
   "source": [
    "exceptions[:10]"
   ]
  },
  {
   "cell_type": "code",
   "execution_count": 8,
   "metadata": {},
   "outputs": [],
   "source": [
    "# COMMENT OUT ON FIRST RUN-THROUGH\n",
    "exceptions = set(exceptions)"
   ]
  },
  {
   "cell_type": "code",
   "execution_count": 9,
   "metadata": {},
   "outputs": [
    {
     "data": {
      "text/plain": [
       "4880"
      ]
     },
     "execution_count": 9,
     "metadata": {},
     "output_type": "execute_result"
    }
   ],
   "source": [
    "len(exceptions)"
   ]
  },
  {
   "cell_type": "markdown",
   "metadata": {},
   "source": [
    "Although there are thousands of exceptions, there are many more theorems which are replaced successfully. Many of the exceptions are relatively simple or low-level theorems, so it makes sense for the model to memorize the names of them instead of their content."
   ]
  },
  {
   "cell_type": "markdown",
   "metadata": {},
   "source": [
    "## Define Functions"
   ]
  },
  {
   "cell_type": "code",
   "execution_count": 10,
   "metadata": {},
   "outputs": [],
   "source": [
    "def find_premise_in_lean_file(premise_list, start, even_shorter):\n",
    "    \"\"\"Return theorem data for the premise with position start and name even_shorter.\"\"\"\n",
    "    max_start = len(premise_list)\n",
    "    left, right = 0, max_start\n",
    "    while left < right:     # binary search\n",
    "        mid = left + (right - left) // 2\n",
    "        mid_start = premise_list[mid]['start'][0]\n",
    "        mid_name = premise_list[mid]['full_name']\n",
    "        error_bound = 20 + (start // 10) # for some reason, the starting point is shifted in the corpus vs the train json, so we allow some wiggle room.\n",
    "        if mid_start <= start and mid_start > start - error_bound and (mid_name.endswith(even_shorter) or mid_name.endswith(even_shorter + '\\'')):\n",
    "            return premise_list[mid]\n",
    "        elif mid_start > start:\n",
    "            right = mid\n",
    "        else:\n",
    "            left = mid + 1\n",
    "    raise ValueError"
   ]
  },
  {
   "cell_type": "code",
   "execution_count": 11,
   "metadata": {},
   "outputs": [],
   "source": [
    "def get_code(corpus, path, start, even_shorter):\n",
    "    \"\"\"Return the code for the theorem with position start and name even_shorter.\"\"\"\n",
    "    for file_dict in corpus:\n",
    "        if file_dict['path'] == path:\n",
    "            premise = find_premise_in_lean_file(file_dict['premises'], start, even_shorter)\n",
    "            return premise['code']\n",
    "    raise ValueError"
   ]
  },
  {
   "cell_type": "code",
   "execution_count": 12,
   "metadata": {},
   "outputs": [],
   "source": [
    "def content_from_code(code, even_shorter):\n",
    "    \"\"\"Return the content of a theorem from its code and its short name.\"\"\"\n",
    "    new_code = code.split(' :=')[0] # the code \n",
    "    new_code = new_code.split(even_shorter)[1]\n",
    "    return new_code"
   ]
  },
  {
   "cell_type": "code",
   "execution_count": 13,
   "metadata": {},
   "outputs": [],
   "source": [
    "# combining the above functions to retrieve a theorem's content.\n",
    "def get_content(short_name, def_path, def_pos):\n",
    "    \"\"\"Return the content of a theorem from its short name, file path, and position.\"\"\"\n",
    "    if short_name.endswith('\\''):\n",
    "        short_name = short_name[:-1]\n",
    "    even_shorter = short_name.split('.')[-1]    # we want to make the name as short as possible so as not to miss potential matches.\n",
    "    code = get_code(corpus, def_path, def_pos[0], even_shorter)\n",
    "    content = content_from_code(code, even_shorter)\n",
    "    return content"
   ]
  },
  {
   "cell_type": "code",
   "execution_count": 14,
   "metadata": {},
   "outputs": [],
   "source": [
    "def replace_single_name_with_content(annotated_tactic_str, short_name, def_path, def_pos):\n",
    "    \"\"\"Return annotated_tactic_str with the theorem name replaced with its content.\"\"\"\n",
    "    content = get_content(short_name, def_path, def_pos)\n",
    "    return annotated_tactic_str.replace('<a>' + short_name + '</a>', '<c>' + content + '</c>')"
   ]
  },
  {
   "cell_type": "code",
   "execution_count": 15,
   "metadata": {},
   "outputs": [],
   "source": [
    "def remove_annotation_from_name(annotated_tactic_str, short_name):\n",
    "    \"\"\"Return annotated_tactic_str with <a> and </a> removed from around short_name.\"\"\"\n",
    "    return annotated_tactic_str.replace('<a>' + short_name + '</a>', short_name)"
   ]
  },
  {
   "cell_type": "code",
   "execution_count": 16,
   "metadata": {},
   "outputs": [],
   "source": [
    "def tactic_with_content(annotated_tactic):\n",
    "    \"\"\"Return the tactic with theorem names replaced with content.\"\"\"\n",
    "    global new_val_exceptions   # when first running through, we store all exceptions to save as a json which we use on re-running.\n",
    "    global new_ind_exceptions\n",
    "    annotated_tactic_str = annotated_tactic[0]\n",
    "    short_names = [m[0] for m in list(re.finditer(r\"<a>(?P<ident>.+?)</a>\", annotated_tactic_str))]\n",
    "    for k, sn in enumerate(short_names):\n",
    "        shorter = sn[3:-4]\n",
    "        l = len(shorter)\n",
    "        full_name = annotated_tactic[1][k]['full_name']\n",
    "        if full_name[-l:] == shorter and shorter not in exceptions:\n",
    "            def_path = annotated_tactic[1][k]['def_path']\n",
    "            def_pos = annotated_tactic[1][k]['def_pos']\n",
    "            try:\n",
    "                annotated_tactic_str = replace_single_name_with_content(annotated_tactic_str, shorter, def_path, def_pos)\n",
    "            except ValueError:\n",
    "                new_val_exceptions = new_val_exceptions + [shorter]\n",
    "            except IndexError:\n",
    "                new_ind_exceptions = new_ind_exceptions + [shorter]\n",
    "        else:\n",
    "            annotated_tactic_str = remove_annotation_from_name(annotated_tactic_str, shorter)\n",
    "    return annotated_tactic_str"
   ]
  },
  {
   "cell_type": "markdown",
   "metadata": {},
   "source": [
    "## Run Code"
   ]
  },
  {
   "cell_type": "markdown",
   "metadata": {},
   "source": [
    "On first run-through, the following code only serves to collect all of the exceptions. Many of the resulting 'expanded_tactic' entries will not be correctly updated and will still contain theorem names between < a> ... < /a>. Only upon second run-through, with the exceptions json loaded correctly, will the resulting 'expanded_tactic' entries be what we are looking for."
   ]
  },
  {
   "cell_type": "code",
   "execution_count": 17,
   "metadata": {},
   "outputs": [],
   "source": [
    "new_val_exceptions = []\n",
    "new_ind_exceptions = []\n",
    "\n",
    "for i, thm in enumerate(data):\n",
    "    for tactic in thm['traced_tactics']:\n",
    "        tactic['expanded_tactic'] = tactic_with_content(tactic['annotated_tactic'])"
   ]
  },
  {
   "cell_type": "code",
   "execution_count": 18,
   "metadata": {},
   "outputs": [
    {
     "data": {
      "text/plain": [
       "(0, 0)"
      ]
     },
     "execution_count": 18,
     "metadata": {},
     "output_type": "execute_result"
    }
   ],
   "source": [
    "len(set(new_ind_exceptions)), len(set(new_val_exceptions))"
   ]
  },
  {
   "cell_type": "markdown",
   "metadata": {},
   "source": [
    "Upon second run-through, there should be zero new exceptions of either type."
   ]
  },
  {
   "cell_type": "code",
   "execution_count": 19,
   "metadata": {},
   "outputs": [],
   "source": [
    "new_exceptions = new_ind_exceptions + new_val_exceptions"
   ]
  },
  {
   "cell_type": "markdown",
   "metadata": {},
   "source": [
    "## Save Data"
   ]
  },
  {
   "cell_type": "code",
   "execution_count": null,
   "metadata": {},
   "outputs": [],
   "source": [
    "# # UNCOMMENT ON FIRST RUN THROUGH TO SAVE THE EXCEPTIONS JSON\n",
    "# with open(\"exceptions.json\", \"w\") as fp:\n",
    "#         json.dump(new_exceptions, fp)"
   ]
  },
  {
   "cell_type": "code",
   "execution_count": 20,
   "metadata": {},
   "outputs": [
    {
     "data": {
      "text/plain": [
       "{'url': 'https://github.com/leanprover-community/mathlib4',\n",
       " 'commit': 'fe4454af900584467d21f4fd4fe951d29d9332a7',\n",
       " 'file_path': '.lake/packages/std/Std/WF.lean',\n",
       " 'full_name': 'WellFounded.fixF_eq_fixFC',\n",
       " 'start': [113, 18],\n",
       " 'end': [115, 36],\n",
       " 'traced_tactics': [{'tactic': 'funext α r C F x a',\n",
       "   'annotated_tactic': ['funext α r C F x a', []],\n",
       "   'state_before': '⊢ @fixF = @WellFounded.fixFC',\n",
       "   'state_after': 'case h.h.h.h.h.h\\nα : Sort u_1\\nr : α → α → Prop\\nC : α → Sort u_2\\nF : (x : α) → ((y : α) → r y x → C y) → C x\\nx : α\\na : Acc r x\\n⊢ fixF F x a = WellFounded.fixFC F x a',\n",
       "   'expanded_tactic': 'funext α r C F x a'},\n",
       "  {'tactic': 'rw [fixF, Acc.rec_eq_recC, fixFC]',\n",
       "   'annotated_tactic': ['rw [<a>fixF</a>, <a>Acc.rec_eq_recC</a>, <a>fixFC</a>]',\n",
       "    [{'full_name': 'WellFounded.fixF',\n",
       "      'def_path': '.lake/packages/lean4/src/lean/Init/WF.lean',\n",
       "      'def_pos': [58, 19],\n",
       "      'def_end_pos': [58, 23]},\n",
       "     {'full_name': '_private.«.lake».packages.std.Std.WF.0.Acc.rec_eq_recC',\n",
       "      'def_path': '.lake/packages/std/Std/WF.lean',\n",
       "      'def_pos': [63, 26],\n",
       "      'def_end_pos': [63, 37]},\n",
       "     {'full_name': '_private.«.lake».packages.std.Std.WF.0.WellFounded.fixFC',\n",
       "      'def_path': '.lake/packages/std/Std/WF.lean',\n",
       "      'def_pos': [108, 23],\n",
       "      'def_end_pos': [108, 28]}]],\n",
       "   'state_before': 'case h.h.h.h.h.h\\nα : Sort u_1\\nr : α → α → Prop\\nC : α → Sort u_2\\nF : (x : α) → ((y : α) → r y x → C y) → C x\\nx : α\\na : Acc r x\\n⊢ fixF F x a = WellFounded.fixFC F x a',\n",
       "   'state_after': 'no goals',\n",
       "   'expanded_tactic': 'rw [<c> (x : α) (a : Acc r x) : C x</c>, <c> : @Acc.rec = @Acc.recC</c>, <c> {α : Sort u} {r : α → α → Prop}\\n    {C : α → Sort v} (F : ∀ x, (∀ y, r y x → C y) → C x) (x : α) (a : Acc r x) : C x</c>]'}]}"
      ]
     },
     "execution_count": 20,
     "metadata": {},
     "output_type": "execute_result"
    }
   ],
   "source": [
    "data[3]"
   ]
  },
  {
   "cell_type": "markdown",
   "metadata": {},
   "source": [
    "Now that each tactic has had an 'expanded_tactic' entry added to it in our data, we save the result as a new json."
   ]
  },
  {
   "cell_type": "code",
   "execution_count": null,
   "metadata": {},
   "outputs": [],
   "source": [
    "# COMMENT OUT ON FIRST RUN-THROUGH\n",
    "with open(\"mytrain.json\", \"w\") as fp:\n",
    "        json.dump(data, fp)"
   ]
  }
 ],
 "metadata": {
  "kernelspec": {
   "display_name": "ReProver",
   "language": "python",
   "name": "python3"
  },
  "language_info": {
   "codemirror_mode": {
    "name": "ipython",
    "version": 3
   },
   "file_extension": ".py",
   "mimetype": "text/x-python",
   "name": "python",
   "nbconvert_exporter": "python",
   "pygments_lexer": "ipython3",
   "version": "3.10.14"
  }
 },
 "nbformat": 4,
 "nbformat_minor": 2
}
